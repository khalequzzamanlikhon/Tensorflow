{
 "cells": [
  {
   "cell_type": "markdown",
   "metadata": {},
   "source": [
    "In the previous section we saw overfitting which means the gap between trainig accuracy and test accuracy was high. to overcome overfitting we can use different regularization methods and dropout. In this example I will use L2 regularization and dropout. **Dropout** is a way of disconnecting some connections between neurons of two consecutive layers in order to increase CNN architecture. Moreover, we used batch normalization for faster training which also plays role as regularizer.\n"
   ]
  },
  {
   "cell_type": "code",
   "execution_count": 19,
   "metadata": {},
   "outputs": [],
   "source": [
    "import os \n",
    "os.environ[\"TFF_CPP_MIN_LOG_LEVEL\"]=\"2\""
   ]
  },
  {
   "cell_type": "code",
   "execution_count": 20,
   "metadata": {},
   "outputs": [],
   "source": [
    "import tensorflow as tf\n",
    "from tensorflow import keras\n",
    "from tensorflow.keras import layers, regularizers\n",
    "from tensorflow.keras.datasets import cifar10"
   ]
  },
  {
   "cell_type": "code",
   "execution_count": 21,
   "metadata": {},
   "outputs": [],
   "source": [
    "(x_train, y_train), (x_test, y_test) = cifar10.load_data()\n",
    "x_train = x_train.astype(\"float32\") / 255.0\n",
    "x_test = x_test.astype(\"float32\") / 255.0"
   ]
  },
  {
   "cell_type": "code",
   "execution_count": 28,
   "metadata": {},
   "outputs": [],
   "source": [
    "#defining cnn model\n",
    "inputs=keras.Input(shape=(32,32,3))\n",
    "x=layers.Conv2D(32,3,activation=\"relu\",padding=\"same\",name=\"conv1\")(inputs)\n",
    "x = layers.BatchNormalization()(x)\n",
    "x=layers.Conv2D(64,3,activation=\"relu\",padding=\"same\",name=\"conv2\")(x)\n",
    "x = layers.BatchNormalization()(x)\n",
    "x=layers.MaxPooling2D()(x)\n",
    "x=layers.Dropout(.4)(x)\n",
    "\n",
    "x=layers.Conv2D(128,3,activation=\"relu\",padding=\"valid\",name=\"conv3\")(x)\n",
    "x = layers.BatchNormalization()(x)\n",
    "x=layers.Conv2D(128,3,activation=\"relu\",padding=\"valid\",name=\"conv4\")(x)\n",
    "x = layers.BatchNormalization()(x)\n",
    "x=layers.MaxPooling2D()(x)\n",
    "x=layers.Dropout(.4)(x)\n",
    "\n",
    "x=layers.Flatten()(x)\n",
    "x=layers.Dropout(.4)(x)\n",
    "x=layers.Dense(64,activation=\"relu\",kernel_regularizer=regularizers.l2(.01),name=\"fc1\")(x)\n",
    "outputs=layers.Dense(10,name=\"fc2\")(x)\n",
    "model=keras.Model(inputs=inputs,outputs=outputs)"
   ]
  },
  {
   "cell_type": "code",
   "execution_count": 30,
   "metadata": {},
   "outputs": [
    {
     "name": "stdout",
     "output_type": "stream",
     "text": [
      "Model: \"model_7\"\n",
      "_________________________________________________________________\n",
      " Layer (type)                Output Shape              Param #   \n",
      "=================================================================\n",
      " input_9 (InputLayer)        [(None, 32, 32, 3)]       0         \n",
      "                                                                 \n",
      " conv1 (Conv2D)              (None, 32, 32, 32)        896       \n",
      "                                                                 \n",
      " batch_normalization_31 (Ba  (None, 32, 32, 32)        128       \n",
      " tchNormalization)                                               \n",
      "                                                                 \n",
      " conv2 (Conv2D)              (None, 32, 32, 64)        18496     \n",
      "                                                                 \n",
      " batch_normalization_32 (Ba  (None, 32, 32, 64)        256       \n",
      " tchNormalization)                                               \n",
      "                                                                 \n",
      " max_pooling2d_16 (MaxPooli  (None, 16, 16, 64)        0         \n",
      " ng2D)                                                           \n",
      "                                                                 \n",
      " dropout_17 (Dropout)        (None, 16, 16, 64)        0         \n",
      "                                                                 \n",
      " conv3 (Conv2D)              (None, 14, 14, 128)       73856     \n",
      "                                                                 \n",
      " batch_normalization_33 (Ba  (None, 14, 14, 128)       512       \n",
      " tchNormalization)                                               \n",
      "                                                                 \n",
      " conv4 (Conv2D)              (None, 12, 12, 128)       147584    \n",
      "                                                                 \n",
      " batch_normalization_34 (Ba  (None, 12, 12, 128)       512       \n",
      " tchNormalization)                                               \n",
      "                                                                 \n",
      " max_pooling2d_17 (MaxPooli  (None, 6, 6, 128)         0         \n",
      " ng2D)                                                           \n",
      "                                                                 \n",
      " dropout_18 (Dropout)        (None, 6, 6, 128)         0         \n",
      "                                                                 \n",
      " flatten_8 (Flatten)         (None, 4608)              0         \n",
      "                                                                 \n",
      " dropout_19 (Dropout)        (None, 4608)              0         \n",
      "                                                                 \n",
      " fc1 (Dense)                 (None, 64)                294976    \n",
      "                                                                 \n",
      " fc2 (Dense)                 (None, 10)                650       \n",
      "                                                                 \n",
      "=================================================================\n",
      "Total params: 537866 (2.05 MB)\n",
      "Trainable params: 537162 (2.05 MB)\n",
      "Non-trainable params: 704 (2.75 KB)\n",
      "_________________________________________________________________\n",
      "None\n"
     ]
    }
   ],
   "source": [
    "print(model.summary())"
   ]
  },
  {
   "cell_type": "code",
   "execution_count": 23,
   "metadata": {},
   "outputs": [],
   "source": [
    "# inputs=keras.Input(shape=(32,32,3))\n",
    "# x=layers.Conv2D(32,3,padding=\"same\",activation=\"relu\",name=\"conv1\",kernel_regularizer=regularizers.l2(.1))(inputs)\n",
    "# x=layers.BatchNormalization()(x)\n",
    "# x=layers.Conv2D(64,3,padding=\"same\",activation=\"relu\",name=\"conv2\",kernel_regularizer=regularizers.l2(.1))(inputs)\n",
    "# x=layers.BatchNormalization()(x)\n",
    "# x=layers.MaxPooling2D()(x)\n",
    "# x=layers.Dropout(.4)(x)\n",
    "\n",
    "# x=layers.Conv2D(128,3,padding=\"valid\",activation=\"relu\",name=\"conv3\",kernel_regularizer=regularizers.l2(.1))(inputs)\n",
    "# x=layers.BatchNormalization()(x)\n",
    "# x=layers.Conv2D(128,3,padding=\"valid\",activation=\"relu\",name=\"conv4\",kernel_regularizer=regularizers.l2(.1))(inputs)\n",
    "# x=layers.BatchNormalization()(x)\n",
    "# x=layers.MaxPooling2D()(x)\n",
    "# x=layers.Dropout(.4)(x)\n",
    "\n",
    "# x=layers.Flatten()(x)\n",
    "# x=layers.Dense(100,activation=\"relu\",kernel_regularizer=regularizers.l2(.1),name=\"fc1\")(x)\n",
    "# x=layers.Dense(64,activation=\"relu\",kernel_regularizer=regularizers.l2(.1),name=\"fc2\")(x)\n",
    "# x=layers.Dropout(.4)(x)\n",
    "# outputs=layers.Dense(10,name=\"outputput_layer\")(x)\n",
    "# model=keras.Model(inputs=inputs,outputs=outputs)"
   ]
  },
  {
   "cell_type": "code",
   "execution_count": 24,
   "metadata": {},
   "outputs": [],
   "source": [
    "# inputs = keras.Input(shape=(32, 32, 3))\n",
    "# x = layers.Conv2D(32, 3,padding=\"same\",kernel_regularizer=regularizers.l2(0.01),)(inputs)\n",
    "# x = layers.BatchNormalization()(x)\n",
    "# x = keras.activations.relu(x)\n",
    "# x = layers.MaxPooling2D()(x)\n",
    "\n",
    "# x = layers.Conv2D(64, 3,padding=\"same\",kernel_regularizer=regularizers.l2(0.01),)(x)\n",
    "# x = layers.BatchNormalization()(x)\n",
    "# x = keras.activations.relu(x)\n",
    "# x = layers.MaxPooling2D()(x)\n",
    "\n",
    "# x = layers.Conv2D(128, 3,padding=\"same\",kernel_regularizer=regularizers.l2(.01))(x)\n",
    "# x = layers.BatchNormalization()(x)\n",
    "# x = keras.activations.relu(x)\n",
    "# x = layers.Flatten()(x)\n",
    "\n",
    "# x = layers.Dense(64, activation=\"relu\",kernel_regularizer=regularizers.l2(0.01))(x)\n",
    "# x=layers.Dropout(0.5)(x)\n",
    "# outputs = layers.Dense(10)(x)\n",
    "# model = keras.Model(inputs=inputs, outputs=outputs)"
   ]
  },
  {
   "cell_type": "code",
   "execution_count": 31,
   "metadata": {},
   "outputs": [],
   "source": [
    "# model configuration\n",
    "model.compile(\n",
    "    loss=keras.losses.SparseCategoricalCrossentropy(from_logits=True),\n",
    "    optimizer=keras.optimizers.Adam(learning_rate=.01),\n",
    "    metrics=[\"accuracy\"]\n",
    ")"
   ]
  },
  {
   "cell_type": "code",
   "execution_count": 32,
   "metadata": {},
   "outputs": [
    {
     "name": "stdout",
     "output_type": "stream",
     "text": [
      "Epoch 1/10\n",
      "782/782 - 233s - loss: 3.0906 - accuracy: 0.3565 - 233s/epoch - 298ms/step\n",
      "Epoch 2/10\n",
      "782/782 - 234s - loss: 1.8612 - accuracy: 0.5113 - 234s/epoch - 299ms/step\n",
      "Epoch 3/10\n",
      "782/782 - 238s - loss: 1.7224 - accuracy: 0.5864 - 238s/epoch - 304ms/step\n",
      "Epoch 4/10\n",
      "782/782 - 230s - loss: 1.6329 - accuracy: 0.6148 - 230s/epoch - 294ms/step\n",
      "Epoch 5/10\n",
      "782/782 - 227s - loss: 1.5971 - accuracy: 0.6320 - 227s/epoch - 291ms/step\n",
      "Epoch 6/10\n",
      "782/782 - 227s - loss: 1.5590 - accuracy: 0.6464 - 227s/epoch - 291ms/step\n",
      "Epoch 7/10\n",
      "782/782 - 227s - loss: 1.5389 - accuracy: 0.6535 - 227s/epoch - 290ms/step\n",
      "Epoch 8/10\n",
      "782/782 - 225s - loss: 1.5127 - accuracy: 0.6670 - 225s/epoch - 288ms/step\n",
      "Epoch 9/10\n",
      "782/782 - 239s - loss: 1.4945 - accuracy: 0.6775 - 239s/epoch - 306ms/step\n",
      "Epoch 10/10\n",
      "782/782 - 245s - loss: 1.4851 - accuracy: 0.6838 - 245s/epoch - 313ms/step\n"
     ]
    },
    {
     "data": {
      "text/plain": [
       "<keras.src.callbacks.History at 0x22999b6ba90>"
      ]
     },
     "execution_count": 32,
     "metadata": {},
     "output_type": "execute_result"
    }
   ],
   "source": [
    "model.fit(x_train,y_train,batch_size=64,epochs=10,verbose=2)"
   ]
  },
  {
   "cell_type": "code",
   "execution_count": 27,
   "metadata": {},
   "outputs": [
    {
     "name": "stdout",
     "output_type": "stream",
     "text": [
      "157/157 - 7s - loss: 1.0162 - accuracy: 0.6767 - 7s/epoch - 45ms/step\n"
     ]
    },
    {
     "data": {
      "text/plain": [
       "[1.0161794424057007, 0.6766999959945679]"
      ]
     },
     "execution_count": 27,
     "metadata": {},
     "output_type": "execute_result"
    }
   ],
   "source": [
    "#evaluation \n",
    "model.evaluate(x_test,y_test,batch_size=64,verbose=2)"
   ]
  },
  {
   "cell_type": "markdown",
   "metadata": {},
   "source": [
    "here I only used regularization in the first fc layer. Because it has the most number of parameters. althogh in practical regularization is applied in all layers. But here after applying this into fc1, overfitting is avoided. Because train and test accuracy is almost same."
   ]
  },
  {
   "cell_type": "markdown",
   "metadata": {},
   "source": [
    "we can see here that the gap between the training accuracy and the test accuracy has decreased using regularization and dropout. Althouth the train accuracy can be higher by increasing the training time(increasing the batch size)."
   ]
  }
 ],
 "metadata": {
  "kernelspec": {
   "display_name": "Python 3",
   "language": "python",
   "name": "python3"
  },
  "language_info": {
   "codemirror_mode": {
    "name": "ipython",
    "version": 3
   },
   "file_extension": ".py",
   "mimetype": "text/x-python",
   "name": "python",
   "nbconvert_exporter": "python",
   "pygments_lexer": "ipython3",
   "version": "3.11.3"
  },
  "orig_nbformat": 4
 },
 "nbformat": 4,
 "nbformat_minor": 2
}
