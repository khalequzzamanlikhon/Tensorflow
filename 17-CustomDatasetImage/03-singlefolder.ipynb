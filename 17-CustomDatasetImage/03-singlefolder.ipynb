{
 "cells": [
  {
   "cell_type": "code",
   "execution_count": 9,
   "metadata": {},
   "outputs": [],
   "source": [
    "import os\n",
    "\n",
    "os.environ[\"TF_CPP_MIN_LOG_LEVEL\"] = \"2\"\n",
    "import tensorflow as tf\n",
    "import pandas as pd\n",
    "from tensorflow import keras\n",
    "from tensorflow.keras import layers\n",
    "import pathlib  # pathlib is in standard library"
   ]
  },
  {
   "cell_type": "markdown",
   "metadata": {},
   "source": [
    "- **pathlib**:  Imports the pathlib module from the standard library, which is used for working with file paths."
   ]
  },
  {
   "cell_type": "code",
   "execution_count": 10,
   "metadata": {},
   "outputs": [],
   "source": [
    "\n",
    "batch_size = 2\n",
    "img_height = 28\n",
    "img_width = 28"
   ]
  },
  {
   "cell_type": "code",
   "execution_count": 11,
   "metadata": {},
   "outputs": [],
   "source": [
    "directory = \"data/mnist_images_only/\"\n",
    "ds_train = tf.data.Dataset.list_files(str(pathlib.Path(directory + \"*.jpg\")))"
   ]
  },
  {
   "cell_type": "markdown",
   "metadata": {},
   "source": [
    "- here I created a tensorflow dataset called ds_train using tf.data.Dataset.list_files. This function reads the file paths of images in the specified directory (\"data/mnist_images_only/\") with the \"*.jpg\" extension."
   ]
  },
  {
   "cell_type": "code",
   "execution_count": 12,
   "metadata": {},
   "outputs": [],
   "source": [
    "def process_path(file_path):\n",
    "    image = tf.io.read_file(file_path)\n",
    "    image = tf.image.decode_jpeg(image, channels=1)\n",
    "    label = tf.strings.split(file_path, \"\\\\\")\n",
    "    label = tf.strings.substr(label, pos=0, len=1)[2]\n",
    "    label = tf.strings.to_number(label, out_type=tf.int64)\n",
    "    return image, label"
   ]
  },
  {
   "cell_type": "markdown",
   "metadata": {},
   "source": [
    "- Reads the file's content using tf.io.read_file.\n",
    "- Decodes the image as a grayscale image using tf.image.decode_jpeg with channels=1.\n",
    "- Extracts the label from the file path by splitting the path using backslashes and converting the first character to an integer label."
   ]
  },
  {
   "cell_type": "code",
   "execution_count": 13,
   "metadata": {},
   "outputs": [],
   "source": [
    "ds_train = ds_train.map(process_path).batch(batch_size)"
   ]
  },
  {
   "cell_type": "markdown",
   "metadata": {},
   "source": [
    "- applied the process_path function to each element of ds_train using the map method. This function processes the image file paths and returns a dataset of image-label pairs.\n",
    "- After mapping, you batch the dataset using .batch(batch_size) to create batches of two elements each."
   ]
  },
  {
   "cell_type": "code",
   "execution_count": 14,
   "metadata": {},
   "outputs": [],
   "source": [
    "\n",
    "model = keras.Sequential(\n",
    "    [\n",
    "        layers.Input((28, 28, 1)),\n",
    "        layers.Conv2D(16, 3, padding=\"same\"),\n",
    "        layers.Conv2D(32, 3, padding=\"same\"),\n",
    "        layers.MaxPooling2D(),\n",
    "        layers.Flatten(),\n",
    "        layers.Dense(10),\n",
    "    ]\n",
    ")"
   ]
  },
  {
   "cell_type": "code",
   "execution_count": 15,
   "metadata": {},
   "outputs": [],
   "source": [
    "model.compile(\n",
    "    optimizer=keras.optimizers.Adam(),\n",
    "    loss=[keras.losses.SparseCategoricalCrossentropy(from_logits=True),],\n",
    "    metrics=[\"accuracy\"],\n",
    ")"
   ]
  },
  {
   "cell_type": "code",
   "execution_count": 16,
   "metadata": {},
   "outputs": [
    {
     "name": "stdout",
     "output_type": "stream",
     "text": [
      "Epoch 1/10\n"
     ]
    },
    {
     "name": "stdout",
     "output_type": "stream",
     "text": [
      "25/25 - 1s - loss: 41.1424 - accuracy: 0.2400 - 894ms/epoch - 36ms/step\n",
      "Epoch 2/10\n",
      "25/25 - 0s - loss: 3.9967 - accuracy: 0.8800 - 159ms/epoch - 6ms/step\n",
      "Epoch 3/10\n",
      "25/25 - 0s - loss: 0.7118 - accuracy: 0.9400 - 122ms/epoch - 5ms/step\n",
      "Epoch 4/10\n",
      "25/25 - 0s - loss: 0.0461 - accuracy: 0.9800 - 98ms/epoch - 4ms/step\n",
      "Epoch 5/10\n",
      "25/25 - 0s - loss: 0.0313 - accuracy: 0.9800 - 95ms/epoch - 4ms/step\n",
      "Epoch 6/10\n",
      "25/25 - 0s - loss: 8.7876e-05 - accuracy: 1.0000 - 96ms/epoch - 4ms/step\n",
      "Epoch 7/10\n",
      "25/25 - 0s - loss: 0.0070 - accuracy: 1.0000 - 110ms/epoch - 4ms/step\n",
      "Epoch 8/10\n",
      "25/25 - 0s - loss: 1.6451e-07 - accuracy: 1.0000 - 110ms/epoch - 4ms/step\n",
      "Epoch 9/10\n",
      "25/25 - 0s - loss: 1.5259e-07 - accuracy: 1.0000 - 99ms/epoch - 4ms/step\n",
      "Epoch 10/10\n",
      "25/25 - 0s - loss: 1.4782e-07 - accuracy: 1.0000 - 78ms/epoch - 3ms/step\n"
     ]
    },
    {
     "data": {
      "text/plain": [
       "<keras.src.callbacks.History at 0x1e4c59fadd0>"
      ]
     },
     "execution_count": 16,
     "metadata": {},
     "output_type": "execute_result"
    }
   ],
   "source": [
    "model.fit(ds_train, epochs=10, verbose=2)"
   ]
  }
 ],
 "metadata": {
  "kernelspec": {
   "display_name": "Python 3",
   "language": "python",
   "name": "python3"
  },
  "language_info": {
   "codemirror_mode": {
    "name": "ipython",
    "version": 3
   },
   "file_extension": ".py",
   "mimetype": "text/x-python",
   "name": "python",
   "nbconvert_exporter": "python",
   "pygments_lexer": "ipython3",
   "version": "3.11.3"
  },
  "orig_nbformat": 4
 },
 "nbformat": 4,
 "nbformat_minor": 2
}
