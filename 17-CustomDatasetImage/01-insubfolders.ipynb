{
 "cells": [
  {
   "cell_type": "code",
   "execution_count": 1,
   "metadata": {},
   "outputs": [],
   "source": [
    "#import libraries\n",
    "import os\n",
    "os.environ[\"TFF_CPP_MIN_LOG_LEVEL\"]=\"2\"\n",
    "import tensorflow as tf\n",
    "from tensorflow import keras\n",
    "from tensorflow.keras import layers\n",
    "from tensorflow.keras.preprocessing.image import ImageDataGenerator"
   ]
  },
  {
   "cell_type": "code",
   "execution_count": 2,
   "metadata": {},
   "outputs": [],
   "source": [
    "img_height=28\n",
    "img_width=28\n",
    "batch_size=2  # since my dataset is small"
   ]
  },
  {
   "cell_type": "code",
   "execution_count": 3,
   "metadata": {},
   "outputs": [],
   "source": [
    "model=keras.Sequential(\n",
    "    [\n",
    "        layers.Input(shape=(28,28,1)),\n",
    "        layers.Conv2D(16,3,padding=\"same\",activation=\"relu\"),\n",
    "        layers.Conv2D(32,3,padding=\"same\",activation=\"relu\"),\n",
    "        layers.MaxPooling2D(),\n",
    "        layers.Flatten(),\n",
    "        layers.Dense(10),\n",
    "    ]\n",
    ")"
   ]
  },
  {
   "cell_type": "markdown",
   "metadata": {},
   "source": [
    "### Method 1 (Using dataset from directory)\n"
   ]
  },
  {
   "cell_type": "code",
   "execution_count": 4,
   "metadata": {},
   "outputs": [
    {
     "name": "stdout",
     "output_type": "stream",
     "text": [
      "Found 50 files belonging to 10 classes.\n",
      "Using 45 files for training.\n"
     ]
    }
   ],
   "source": [
    "ds_train=tf.keras.preprocessing.image_dataset_from_directory(\n",
    "\"data/mnist_subfolders/\",\n",
    "labels=\"inferred\",\n",
    "label_mode=\"int\",\n",
    "#class_names=['0','1',.....]\n",
    "color_mode=\"grayscale\",\n",
    "batch_size=batch_size,\n",
    "image_size=(img_height,img_width), # reshape if not in this shape\n",
    "shuffle=True,\n",
    "seed=12,\n",
    "validation_split=0.1,\n",
    "subset=\"training\",\n",
    ")"
   ]
  },
  {
   "cell_type": "code",
   "execution_count": 5,
   "metadata": {},
   "outputs": [
    {
     "name": "stdout",
     "output_type": "stream",
     "text": [
      "Found 50 files belonging to 10 classes.\n",
      "Using 5 files for validation.\n"
     ]
    }
   ],
   "source": [
    "ds_validation=tf.keras.preprocessing.image_dataset_from_directory(\n",
    "    \"data/mnist_subfolders/\",\n",
    "    labels=\"inferred\",\n",
    "    label_mode=\"int\",\n",
    "    color_mode=\"grayscale\",\n",
    "    batch_size=batch_size,\n",
    "    image_size=(img_height,img_width),\n",
    "    shuffle=True,\n",
    "    seed=12,\n",
    "    validation_split=.1,\n",
    "    subset=\"validation\",\n",
    ")"
   ]
  },
  {
   "cell_type": "code",
   "execution_count": 6,
   "metadata": {},
   "outputs": [],
   "source": [
    "# data augment { we can perform data augmentation according to our need}\n",
    "def augment(x,y):\n",
    "    image=tf.image.random_brightness(x,max_delta=.05)\n",
    "    return image,y"
   ]
  },
  {
   "cell_type": "code",
   "execution_count": 7,
   "metadata": {},
   "outputs": [],
   "source": [
    "ds_train=ds_train.map(augment)"
   ]
  },
  {
   "cell_type": "code",
   "execution_count": 8,
   "metadata": {},
   "outputs": [],
   "source": [
    "#custom loops\n",
    "for epochs in range(10):\n",
    "    for x,y in ds_train:\n",
    "        pass"
   ]
  },
  {
   "cell_type": "code",
   "execution_count": 9,
   "metadata": {},
   "outputs": [],
   "source": [
    "model.compile(\n",
    "    loss=keras.losses.SparseCategoricalCrossentropy(from_logits=True),\n",
    "    optimizer=keras.optimizers.Adam(learning_rate=.01),\n",
    "    metrics=[\"accuracy\"],\n",
    ")"
   ]
  },
  {
   "cell_type": "code",
   "execution_count": 10,
   "metadata": {},
   "outputs": [
    {
     "name": "stdout",
     "output_type": "stream",
     "text": [
      "Epoch 1/10\n",
      "23/23 - 1s - loss: 45.3392 - accuracy: 0.0889 - 1s/epoch - 46ms/step\n",
      "Epoch 2/10\n",
      "23/23 - 0s - loss: 2.0908 - accuracy: 0.3556 - 85ms/epoch - 4ms/step\n",
      "Epoch 3/10\n",
      "23/23 - 0s - loss: 0.6169 - accuracy: 0.8444 - 79ms/epoch - 3ms/step\n",
      "Epoch 4/10\n",
      "23/23 - 0s - loss: 0.1171 - accuracy: 0.9556 - 80ms/epoch - 3ms/step\n",
      "Epoch 5/10\n",
      "23/23 - 0s - loss: 0.0072 - accuracy: 1.0000 - 78ms/epoch - 3ms/step\n",
      "Epoch 6/10\n",
      "23/23 - 0s - loss: 0.0026 - accuracy: 1.0000 - 84ms/epoch - 4ms/step\n",
      "Epoch 7/10\n",
      "23/23 - 0s - loss: 0.0015 - accuracy: 1.0000 - 84ms/epoch - 4ms/step\n",
      "Epoch 8/10\n",
      "23/23 - 0s - loss: 9.9440e-04 - accuracy: 1.0000 - 82ms/epoch - 4ms/step\n",
      "Epoch 9/10\n",
      "23/23 - 0s - loss: 6.3096e-04 - accuracy: 1.0000 - 79ms/epoch - 3ms/step\n",
      "Epoch 10/10\n",
      "23/23 - 0s - loss: 4.0997e-04 - accuracy: 1.0000 - 90ms/epoch - 4ms/step\n"
     ]
    },
    {
     "data": {
      "text/plain": [
       "<keras.src.callbacks.History at 0x20db671e090>"
      ]
     },
     "execution_count": 10,
     "metadata": {},
     "output_type": "execute_result"
    }
   ],
   "source": [
    "model.fit(ds_train,epochs=10,verbose=2)"
   ]
  },
  {
   "cell_type": "markdown",
   "metadata": {},
   "source": [
    "### Method 2 (image data generator and flow_form_directory)"
   ]
  },
  {
   "cell_type": "code",
   "execution_count": 11,
   "metadata": {},
   "outputs": [],
   "source": [
    "datagen = ImageDataGenerator(\n",
    "    rescale=1.0 / 255.0,\n",
    "    rotation_range=5,\n",
    "    zoom_range=(0.95, 0.95),\n",
    "    horizontal_flip=False,\n",
    "    vertical_flip=False,\n",
    "    data_format=\"channels_last\",\n",
    "    validation_split=0.0,\n",
    "    dtype=\"float32\",\n",
    ")"
   ]
  },
  {
   "cell_type": "code",
   "execution_count": 12,
   "metadata": {},
   "outputs": [
    {
     "name": "stdout",
     "output_type": "stream",
     "text": [
      "Found 50 images belonging to 10 classes.\n"
     ]
    }
   ],
   "source": [
    "train_generator = datagen.flow_from_directory(\n",
    "    \"data/mnist_subfolders/\",\n",
    "    target_size=(img_height, img_width),\n",
    "    batch_size=batch_size,\n",
    "    color_mode=\"grayscale\",\n",
    "    class_mode=\"sparse\",\n",
    "    shuffle=True,\n",
    "    subset=\"training\",\n",
    "    seed=123,\n",
    ")"
   ]
  },
  {
   "cell_type": "code",
   "execution_count": 13,
   "metadata": {},
   "outputs": [],
   "source": [
    "def training():\n",
    "    pass\n",
    "\n",
    "# Custom Loops\n",
    "for epoch in range(10):\n",
    "    num_batches = 0\n",
    "\n",
    "    for x, y in ds_train:\n",
    "        num_batches += 1\n",
    "\n",
    "        # do training\n",
    "        training()\n",
    "\n",
    "        if num_batches == 25:  # len(train_dataset)/batch_size\n",
    "            break"
   ]
  },
  {
   "cell_type": "code",
   "execution_count": 14,
   "metadata": {},
   "outputs": [],
   "source": [
    "# Redo model.compile to reset the optimizer states\n",
    "model.compile(\n",
    "    optimizer=keras.optimizers.Adam(),\n",
    "    loss=[keras.losses.SparseCategoricalCrossentropy(from_logits=True),],\n",
    "    metrics=[\"accuracy\"],\n",
    ")"
   ]
  },
  {
   "cell_type": "code",
   "execution_count": 15,
   "metadata": {},
   "outputs": [
    {
     "name": "stdout",
     "output_type": "stream",
     "text": [
      "Epoch 1/10\n",
      "25/25 - 1s - loss: 2.5042 - accuracy: 0.1000 - 869ms/epoch - 35ms/step\n",
      "Epoch 2/10\n",
      "25/25 - 0s - loss: 2.2741 - accuracy: 0.1000 - 95ms/epoch - 4ms/step\n",
      "Epoch 3/10\n",
      "25/25 - 0s - loss: 2.1964 - accuracy: 0.1000 - 96ms/epoch - 4ms/step\n",
      "Epoch 4/10\n",
      "25/25 - 0s - loss: 2.0725 - accuracy: 0.2600 - 95ms/epoch - 4ms/step\n",
      "Epoch 5/10\n",
      "25/25 - 0s - loss: 1.9275 - accuracy: 0.5800 - 98ms/epoch - 4ms/step\n",
      "Epoch 6/10\n",
      "25/25 - 0s - loss: 1.6977 - accuracy: 0.6200 - 96ms/epoch - 4ms/step\n",
      "Epoch 7/10\n",
      "25/25 - 0s - loss: 1.3250 - accuracy: 0.8400 - 107ms/epoch - 4ms/step\n",
      "Epoch 8/10\n",
      "25/25 - 0s - loss: 0.9862 - accuracy: 0.8600 - 95ms/epoch - 4ms/step\n",
      "Epoch 9/10\n",
      "25/25 - 0s - loss: 0.6899 - accuracy: 0.9000 - 98ms/epoch - 4ms/step\n",
      "Epoch 10/10\n",
      "25/25 - 0s - loss: 0.4703 - accuracy: 0.9400 - 99ms/epoch - 4ms/step\n"
     ]
    },
    {
     "data": {
      "text/plain": [
       "<keras.src.callbacks.History at 0x20db7a41990>"
      ]
     },
     "execution_count": 15,
     "metadata": {},
     "output_type": "execute_result"
    }
   ],
   "source": [
    "# using model.fit (note steps_per_epoch)\n",
    "model.fit(\n",
    "    train_generator,\n",
    "    epochs=10,\n",
    "    steps_per_epoch=25,\n",
    "    verbose=2,\n",
    "    # if we had a validation generator:\n",
    "    # validation_data=validation_generator,\n",
    "    # valiation_steps=len(validation_set)/batch_size),\n",
    ")"
   ]
  }
 ],
 "metadata": {
  "kernelspec": {
   "display_name": "Python 3",
   "language": "python",
   "name": "python3"
  },
  "language_info": {
   "codemirror_mode": {
    "name": "ipython",
    "version": 3
   },
   "file_extension": ".py",
   "mimetype": "text/x-python",
   "name": "python",
   "nbconvert_exporter": "python",
   "pygments_lexer": "ipython3",
   "version": "3.11.3"
  },
  "orig_nbformat": 4
 },
 "nbformat": 4,
 "nbformat_minor": 2
}
