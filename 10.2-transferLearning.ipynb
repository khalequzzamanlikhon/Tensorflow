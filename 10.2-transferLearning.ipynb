{
 "cells": [
  {
   "cell_type": "markdown",
   "metadata": {},
   "source": [
    "In this notebook we will use transfer learning using tensorflow_hub\n",
    "\n",
    "we need to go to : "
   ]
  },
  {
   "cell_type": "code",
   "execution_count": 21,
   "metadata": {},
   "outputs": [],
   "source": [
    "import os\n",
    "\n",
    "os.environ[\"TF_CPP_MIN_LOG_LEVEL\"] = \"2\"\n",
    "import tensorflow as tf\n",
    "from tensorflow import keras\n",
    "from tensorflow.keras import layers\n",
    "from tensorflow.keras.datasets import mnist\n",
    "import tensorflow_hub as hub"
   ]
  },
  {
   "cell_type": "code",
   "execution_count": 22,
   "metadata": {},
   "outputs": [],
   "source": [
    "# Random data for demonstration (3 examples w. 3 classes)\n",
    "x = tf.random.normal(shape=(3, 299, 299, 3))\n",
    "y = tf.constant([0, 1, 2])\n"
   ]
  },
  {
   "cell_type": "code",
   "execution_count": 23,
   "metadata": {},
   "outputs": [],
   "source": [
    "url=\"https://tfhub.dev/google/imagenet/inception_v3/classification/5\"\n",
    "# url = \"https://tfhub.dev/google/imagenet/inception_v3/feature_vector/4\""
   ]
  },
  {
   "cell_type": "code",
   "execution_count": 24,
   "metadata": {},
   "outputs": [],
   "source": [
    "base_model=hub.KerasLayer(url,input_shape=(299,299,3))\n",
    "model=keras.Sequential([\n",
    "    base_model,\n",
    "    layers.Dense(128,activation=\"relu\"),\n",
    "    layers.Dense(64,activation=\"relu\"),\n",
    "    layers.Dense(10),]\n",
    ")"
   ]
  },
  {
   "cell_type": "code",
   "execution_count": 25,
   "metadata": {},
   "outputs": [
    {
     "name": "stdout",
     "output_type": "stream",
     "text": [
      "Model: \"sequential_3\"\n",
      "_________________________________________________________________\n",
      " Layer (type)                Output Shape              Param #   \n",
      "=================================================================\n",
      " keras_layer_5 (KerasLayer)  (None, 1001)              23853833  \n",
      "                                                                 \n",
      " dense_15 (Dense)            (None, 128)               128256    \n",
      "                                                                 \n",
      " dense_16 (Dense)            (None, 64)                8256      \n",
      "                                                                 \n",
      " dense_17 (Dense)            (None, 10)                650       \n",
      "                                                                 \n",
      "=================================================================\n",
      "Total params: 23990995 (91.52 MB)\n",
      "Trainable params: 137162 (535.79 KB)\n",
      "Non-trainable params: 23853833 (91.00 MB)\n",
      "_________________________________________________________________\n",
      "None\n"
     ]
    }
   ],
   "source": [
    "print(model.summary())"
   ]
  },
  {
   "cell_type": "code",
   "execution_count": 26,
   "metadata": {},
   "outputs": [],
   "source": [
    "model.compile(\n",
    "    optimizer=keras.optimizers.Adam(),\n",
    "    loss=keras.losses.SparseCategoricalCrossentropy(from_logits=True),\n",
    "    metrics=[\"accuracy\"],\n",
    ")\n"
   ]
  },
  {
   "cell_type": "code",
   "execution_count": 27,
   "metadata": {},
   "outputs": [
    {
     "name": "stdout",
     "output_type": "stream",
     "text": [
      "Epoch 1/10\n",
      "1/1 - 7s - loss: 2.9011 - accuracy: 0.0000e+00 - 7s/epoch - 7s/step\n",
      "Epoch 2/10\n",
      "1/1 - 1s - loss: 1.7241 - accuracy: 0.3333 - 501ms/epoch - 501ms/step\n",
      "Epoch 3/10\n",
      "1/1 - 0s - loss: 1.2473 - accuracy: 0.6667 - 294ms/epoch - 294ms/step\n",
      "Epoch 4/10\n",
      "1/1 - 0s - loss: 1.0172 - accuracy: 0.3333 - 235ms/epoch - 235ms/step\n",
      "Epoch 5/10\n",
      "1/1 - 0s - loss: 0.8313 - accuracy: 1.0000 - 246ms/epoch - 246ms/step\n",
      "Epoch 6/10\n",
      "1/1 - 0s - loss: 0.7017 - accuracy: 1.0000 - 254ms/epoch - 254ms/step\n",
      "Epoch 7/10\n",
      "1/1 - 0s - loss: 0.6172 - accuracy: 1.0000 - 222ms/epoch - 222ms/step\n",
      "Epoch 8/10\n",
      "1/1 - 0s - loss: 0.5301 - accuracy: 1.0000 - 237ms/epoch - 237ms/step\n",
      "Epoch 9/10\n",
      "1/1 - 0s - loss: 0.4632 - accuracy: 1.0000 - 217ms/epoch - 217ms/step\n",
      "Epoch 10/10\n",
      "1/1 - 0s - loss: 0.4015 - accuracy: 1.0000 - 216ms/epoch - 216ms/step\n"
     ]
    },
    {
     "data": {
      "text/plain": [
       "<keras.src.callbacks.History at 0x2298d7ba0d0>"
      ]
     },
     "execution_count": 27,
     "metadata": {},
     "output_type": "execute_result"
    }
   ],
   "source": [
    "model.fit(x, y, batch_size=32, epochs=10, verbose=2)"
   ]
  }
 ],
 "metadata": {
  "kernelspec": {
   "display_name": "Python 3",
   "language": "python",
   "name": "python3"
  },
  "language_info": {
   "codemirror_mode": {
    "name": "ipython",
    "version": 3
   },
   "file_extension": ".py",
   "mimetype": "text/x-python",
   "name": "python",
   "nbconvert_exporter": "python",
   "pygments_lexer": "ipython3",
   "version": "3.11.3"
  },
  "orig_nbformat": 4
 },
 "nbformat": 4,
 "nbformat_minor": 2
}
