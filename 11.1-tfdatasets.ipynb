{
 "cells": [
  {
   "cell_type": "code",
   "execution_count": 8,
   "metadata": {},
   "outputs": [],
   "source": [
    "import os\n",
    "import matplotlib.pyplot\n",
    "\n",
    "os.environ[\"TF_CPP_MIN_LOG_LEVEL\"] = \"2\"\n",
    "import tensorflow as tf\n",
    "from tensorflow import keras\n",
    "from tensorflow.keras import layers\n",
    "import tensorflow_datasets as tfds"
   ]
  },
  {
   "cell_type": "code",
   "execution_count": 9,
   "metadata": {},
   "outputs": [],
   "source": [
    "# physical_devices = tf.config.list_physical_devices(\"GPU\")\n",
    "# tf.config.experimental.set_memory_growth(physical_devices[0], True)"
   ]
  },
  {
   "cell_type": "code",
   "execution_count": 10,
   "metadata": {},
   "outputs": [],
   "source": [
    "\n",
    "(ds_train, ds_test), ds_info = tfds.load(\n",
    "    \"imdb_reviews\",\n",
    "    split=[\"train\", \"test\"],\n",
    "    shuffle_files=True,\n",
    "    as_supervised=True,  # will return tuple (img, label) otherwise dict\n",
    "    with_info=True,  # able to get info about dataset\n",
    ")"
   ]
  },
  {
   "cell_type": "code",
   "execution_count": 11,
   "metadata": {},
   "outputs": [
    {
     "ename": "AttributeError",
     "evalue": "module 'tensorflow_datasets.core.features' has no attribute 'text'",
     "output_type": "error",
     "traceback": [
      "\u001b[1;31m---------------------------------------------------------------------------\u001b[0m",
      "\u001b[1;31mAttributeError\u001b[0m                            Traceback (most recent call last)",
      "Cell \u001b[1;32mIn[11], line 1\u001b[0m\n\u001b[1;32m----> 1\u001b[0m tokenizer \u001b[39m=\u001b[39m tfds\u001b[39m.\u001b[39;49mfeatures\u001b[39m.\u001b[39;49mtext\u001b[39m.\u001b[39mTokenizer()\n",
      "\u001b[1;31mAttributeError\u001b[0m: module 'tensorflow_datasets.core.features' has no attribute 'text'"
     ]
    }
   ],
   "source": [
    "tokenizer = tfds.features.text.Tokenizer()"
   ]
  },
  {
   "cell_type": "code",
   "execution_count": null,
   "metadata": {},
   "outputs": [],
   "source": [
    "def build_vocabulary():\n",
    "    vocabulary = set()\n",
    "    for text, _ in ds_train:\n",
    "        vocabulary.update(tokenizer.tokenize(text.numpy().lower()))\n",
    "    return vocabulary\n",
    "\n",
    "\n",
    "vocabulary = build_vocabulary()"
   ]
  },
  {
   "cell_type": "code",
   "execution_count": null,
   "metadata": {},
   "outputs": [],
   "source": [
    "encoder = tfds.features.text.TokenTextEncoder(\n",
    "    list(vocabulary), oov_token=\"<UNK>\", lowercase=True, tokenizer=tokenizer\n",
    ")\n"
   ]
  },
  {
   "cell_type": "code",
   "execution_count": null,
   "metadata": {},
   "outputs": [],
   "source": [
    "def my_enc(text_tensor, label):\n",
    "    encoded_text = encoder.encode(text_tensor.numpy())\n",
    "    return encoded_text, label"
   ]
  },
  {
   "cell_type": "code",
   "execution_count": null,
   "metadata": {},
   "outputs": [],
   "source": [
    "def encode_map_fn(text, label):\n",
    "    # py_func doesn't set the shape of the returned tensors.\n",
    "    encoded_text, label = tf.py_function(\n",
    "        my_enc, inp=[text, label], Tout=(tf.int64, tf.int64)\n",
    "    )\n",
    "\n",
    "    # `tf.data.Datasets` work best if all components have a shape set\n",
    "    #  so set the shapes manually:\n",
    "    encoded_text.set_shape([None])\n",
    "    label.set_shape([])\n",
    "\n",
    "    return encoded_text, label"
   ]
  },
  {
   "cell_type": "code",
   "execution_count": null,
   "metadata": {},
   "outputs": [],
   "source": [
    "\n",
    "AUTOTUNE = tf.data.experimental.AUTOTUNE\n",
    "ds_train = ds_train.map(encode_map_fn, num_parallel_calls=AUTOTUNE)\n",
    "ds_train = ds_train.cache()\n",
    "ds_train = ds_train.shuffle(1000)\n",
    "ds_train = ds_train.padded_batch(32, padded_shapes=([None], ()))\n",
    "ds_train = ds_train.prefetch(AUTOTUNE)\n",
    "\n",
    "ds_test = ds_test.map(encode_map_fn)\n",
    "ds_test = ds_test.padded_batch(32, padded_shapes=([None], ()))"
   ]
  },
  {
   "cell_type": "code",
   "execution_count": null,
   "metadata": {},
   "outputs": [],
   "source": [
    "model = keras.Sequential(\n",
    "    [\n",
    "        layers.Masking(mask_value=0),\n",
    "        layers.Embedding(input_dim=len(vocabulary) + 2, output_dim=32),\n",
    "        layers.GlobalAveragePooling1D(),\n",
    "        layers.Dense(64, activation=\"relu\"),\n",
    "        layers.Dense(1),\n",
    "    ]\n",
    ")"
   ]
  },
  {
   "cell_type": "code",
   "execution_count": null,
   "metadata": {},
   "outputs": [],
   "source": [
    "model.compile(\n",
    "    loss=keras.losses.BinaryCrossentropy(from_logits=True),\n",
    "    optimizer=keras.optimizers.Adam(3e-4, clipnorm=1),\n",
    "    metrics=[\"accuracy\"],\n",
    ")\n"
   ]
  },
  {
   "cell_type": "code",
   "execution_count": null,
   "metadata": {},
   "outputs": [],
   "source": [
    "model.fit(ds_train, epochs=15, verbose=2)"
   ]
  },
  {
   "cell_type": "code",
   "execution_count": 16,
   "metadata": {},
   "outputs": [
    {
     "ename": "AttributeError",
     "evalue": "module 'tensorflow_datasets.core.features' has no attribute 'text'",
     "output_type": "error",
     "traceback": [
      "\u001b[1;31m---------------------------------------------------------------------------\u001b[0m",
      "\u001b[1;31mAttributeError\u001b[0m                            Traceback (most recent call last)",
      "Cell \u001b[1;32mIn[16], line 72\u001b[0m\n\u001b[0;32m     10\u001b[0m \u001b[39m# physical_devices = tf.config.list_physical_devices(\"GPU\")\u001b[39;00m\n\u001b[0;32m     11\u001b[0m \u001b[39m# tf.config.experimental.set_memory_growth(physical_devices[0], True)\u001b[39;00m\n\u001b[0;32m     12\u001b[0m \n\u001b[1;32m   (...)\u001b[0m\n\u001b[0;32m     60\u001b[0m \u001b[39m# model.fit(ds_train, epochs=5, verbose=2)\u001b[39;00m\n\u001b[0;32m     61\u001b[0m \u001b[39m# model.evaluate(ds_test)\u001b[39;00m\n\u001b[0;32m     64\u001b[0m (ds_train, ds_test), ds_info \u001b[39m=\u001b[39m tfds\u001b[39m.\u001b[39mload(\n\u001b[0;32m     65\u001b[0m     \u001b[39m\"\u001b[39m\u001b[39mimdb_reviews\u001b[39m\u001b[39m\"\u001b[39m,\n\u001b[0;32m     66\u001b[0m     split\u001b[39m=\u001b[39m[\u001b[39m\"\u001b[39m\u001b[39mtrain\u001b[39m\u001b[39m\"\u001b[39m, \u001b[39m\"\u001b[39m\u001b[39mtest\u001b[39m\u001b[39m\"\u001b[39m],\n\u001b[1;32m   (...)\u001b[0m\n\u001b[0;32m     69\u001b[0m     with_info\u001b[39m=\u001b[39m\u001b[39mTrue\u001b[39;00m,  \u001b[39m# able to get info about dataset\u001b[39;00m\n\u001b[0;32m     70\u001b[0m )\n\u001b[1;32m---> 72\u001b[0m tokenizer \u001b[39m=\u001b[39m tfds\u001b[39m.\u001b[39;49mfeatures\u001b[39m.\u001b[39;49mtext\u001b[39m.\u001b[39mTokenizer()\n\u001b[0;32m     75\u001b[0m \u001b[39mdef\u001b[39;00m \u001b[39mbuild_vocabulary\u001b[39m():\n\u001b[0;32m     76\u001b[0m     vocabulary \u001b[39m=\u001b[39m \u001b[39mset\u001b[39m()\n",
      "\u001b[1;31mAttributeError\u001b[0m: module 'tensorflow_datasets.core.features' has no attribute 'text'"
     ]
    }
   ],
   "source": [
    "import os\n",
    "import matplotlib.pyplot\n",
    "\n",
    "os.environ[\"TF_CPP_MIN_LOG_LEVEL\"] = \"2\"\n",
    "import tensorflow as tf\n",
    "from tensorflow import keras\n",
    "from tensorflow.keras import layers\n",
    "import tensorflow_datasets as tfds\n",
    "\n",
    "# physical_devices = tf.config.list_physical_devices(\"GPU\")\n",
    "# tf.config.experimental.set_memory_growth(physical_devices[0], True)\n",
    "\n",
    "# (ds_train, ds_test), ds_info = tfds.load(\n",
    "#     \"mnist\",\n",
    "#     split=[\"train\", \"test\"],\n",
    "#     shuffle_files=True,\n",
    "#     as_supervised=True,  # will return tuple (img, label) otherwise dict\n",
    "#     with_info=True,  # able to get info about dataset\n",
    "# )\n",
    "\n",
    "# # fig = tfds.show_examples(ds_train, ds_info, rows=4, cols=4)\n",
    "# # print(ds_info)\n",
    "\n",
    "\n",
    "# def normalize_img(image, label):\n",
    "#     \"\"\"Normalizes images\"\"\"\n",
    "#     return tf.cast(image, tf.float32) / 255.0, label\n",
    "\n",
    "\n",
    "# AUTOTUNE = tf.data.experimental.AUTOTUNE\n",
    "# BATCH_SIZE = 128\n",
    "\n",
    "# # Setup for train dataset\n",
    "# ds_train = ds_train.map(normalize_img, num_parallel_calls=AUTOTUNE)\n",
    "# ds_train = ds_train.cache()\n",
    "# ds_train = ds_train.shuffle(ds_info.splits[\"train\"].num_examples)\n",
    "# ds_train = ds_train.batch(BATCH_SIZE)\n",
    "# ds_train = ds_train.prefetch(AUTOTUNE)\n",
    "\n",
    "# # Setup for test Dataset\n",
    "# ds_test = ds_train.map(normalize_img, num_parallel_calls=AUTOTUNE)\n",
    "# ds_test = ds_train.batch(128)\n",
    "# ds_test = ds_train.prefetch(AUTOTUNE)\n",
    "\n",
    "# model = keras.Sequential(\n",
    "#     [\n",
    "#         keras.Input((28, 28, 1)),\n",
    "#         layers.Conv2D(32, 3, activation=\"relu\"),\n",
    "#         layers.Flatten(),\n",
    "#         tf.keras.layers.Dense(10, activation=\"softmax\"),\n",
    "#     ]\n",
    "# )\n",
    "\n",
    "# model.compile(\n",
    "#     optimizer=keras.optimizers.Adam(0.001),\n",
    "#     loss=keras.losses.SparseCategoricalCrossentropy(),\n",
    "#     metrics=[\"accuracy\"],\n",
    "# )\n",
    "\n",
    "# model.fit(ds_train, epochs=5, verbose=2)\n",
    "# model.evaluate(ds_test)\n",
    "\n",
    "\n",
    "(ds_train, ds_test), ds_info = tfds.load(\n",
    "    \"imdb_reviews\",\n",
    "    split=[\"train\", \"test\"],\n",
    "    shuffle_files=True,\n",
    "    as_supervised=True,  # will return tuple (img, label) otherwise dict\n",
    "    with_info=True,  # able to get info about dataset\n",
    ")\n",
    "\n",
    "tokenizer = tfds.features.text.Tokenizer()\n",
    "\n",
    "\n",
    "def build_vocabulary():\n",
    "    vocabulary = set()\n",
    "    for text, _ in ds_train:\n",
    "        vocabulary.update(tokenizer.tokenize(text.numpy().lower()))\n",
    "    return vocabulary\n",
    "\n",
    "\n",
    "vocabulary = build_vocabulary()\n",
    "\n",
    "encoder = tfds.features.text.TokenTextEncoder(\n",
    "    list(vocabulary), oov_token=\"<UNK>\", lowercase=True, tokenizer=tokenizer\n",
    ")\n",
    "\n",
    "\n",
    "def my_enc(text_tensor, label):\n",
    "    encoded_text = encoder.encode(text_tensor.numpy())\n",
    "    return encoded_text, label\n",
    "\n",
    "\n",
    "def encode_map_fn(text, label):\n",
    "    # py_func doesn't set the shape of the returned tensors.\n",
    "    encoded_text, label = tf.py_function(\n",
    "        my_enc, inp=[text, label], Tout=(tf.int64, tf.int64)\n",
    "    )\n",
    "\n",
    "    # `tf.data.Datasets` work best if all components have a shape set\n",
    "    #  so set the shapes manually:\n",
    "    encoded_text.set_shape([None])\n",
    "    label.set_shape([])\n",
    "\n",
    "    return encoded_text, label\n",
    "\n",
    "\n",
    "AUTOTUNE = tf.data.experimental.AUTOTUNE\n",
    "ds_train = ds_train.map(encode_map_fn, num_parallel_calls=AUTOTUNE)\n",
    "ds_train = ds_train.cache()\n",
    "ds_train = ds_train.shuffle(1000)\n",
    "ds_train = ds_train.padded_batch(32, padded_shapes=([None], ()))\n",
    "ds_train = ds_train.prefetch(AUTOTUNE)\n",
    "\n",
    "ds_test = ds_test.map(encode_map_fn)\n",
    "ds_test = ds_test.padded_batch(32, padded_shapes=([None], ()))\n",
    "\n",
    "model = keras.Sequential(\n",
    "    [\n",
    "        layers.Masking(mask_value=0),\n",
    "        layers.Embedding(input_dim=len(vocabulary) + 2, output_dim=32),\n",
    "        layers.GlobalAveragePooling1D(),\n",
    "        layers.Dense(64, activation=\"relu\"),\n",
    "        layers.Dense(1),\n",
    "    ]\n",
    ")\n",
    "\n",
    "model.compile(\n",
    "    loss=keras.losses.BinaryCrossentropy(from_logits=True),\n",
    "    optimizer=keras.optimizers.Adam(3e-4, clipnorm=1),\n",
    "    metrics=[\"accuracy\"],\n",
    ")\n",
    "\n",
    "model.fit(ds_train, epochs=15, verbose=2)\n",
    "model.evaluate(ds_test)"
   ]
  },
  {
   "cell_type": "code",
   "execution_count": null,
   "metadata": {},
   "outputs": [],
   "source": []
  }
 ],
 "metadata": {
  "kernelspec": {
   "display_name": "Python 3",
   "language": "python",
   "name": "python3"
  },
  "language_info": {
   "codemirror_mode": {
    "name": "ipython",
    "version": 3
   },
   "file_extension": ".py",
   "mimetype": "text/x-python",
   "name": "python",
   "nbconvert_exporter": "python",
   "pygments_lexer": "ipython3",
   "version": "3.11.3"
  },
  "orig_nbformat": 4
 },
 "nbformat": 4,
 "nbformat_minor": 2
}
