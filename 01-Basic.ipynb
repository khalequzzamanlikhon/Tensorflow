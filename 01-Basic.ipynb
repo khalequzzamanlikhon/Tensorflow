{
 "cells": [
  {
   "cell_type": "markdown",
   "metadata": {},
   "source": [
    "# Tensorflow\n",
    "**Question** : What is tensorflow?\n",
    "- From programming perspective a tensor is a multidimensional array that has the ability to be run on the gpu.  \n",
    "- From mathematical perspective, a tensor is a generalization of a scalar, vector and matrix. For example, a vector is a one dimensional tensor and a matrix is a two dimensional tensor.\n"
   ]
  },
  {
   "cell_type": "code",
   "execution_count": 4,
   "metadata": {},
   "outputs": [],
   "source": [
    "import os\n",
    "os.environ['TF_CPP_MIN_LOG_LEVEL']='2'  # To hide error message\n",
    "import tensorflow as tf"
   ]
  },
  {
   "cell_type": "markdown",
   "metadata": {},
   "source": [
    "### Initialization\n"
   ]
  },
  {
   "cell_type": "code",
   "execution_count": 5,
   "metadata": {},
   "outputs": [
    {
     "name": "stdout",
     "output_type": "stream",
     "text": [
      "tf.Tensor(4, shape=(), dtype=int32)\n"
     ]
    }
   ],
   "source": [
    " x=tf.constant(4)\n",
    " print(x)"
   ]
  },
  {
   "cell_type": "markdown",
   "metadata": {},
   "source": [
    "a scalar value having no shape. datatype by default is set to int32. we can set the shape and the dtype of the tensor by following piece of code"
   ]
  },
  {
   "cell_type": "code",
   "execution_count": 8,
   "metadata": {},
   "outputs": [],
   "source": [
    "x=tf.constant(4,shape=(1,1),dtype=tf.float32)"
   ]
  },
  {
   "cell_type": "code",
   "execution_count": 9,
   "metadata": {},
   "outputs": [
    {
     "name": "stdout",
     "output_type": "stream",
     "text": [
      "tf.Tensor(\n",
      "[[1 2 3]\n",
      " [4 5 6]], shape=(2, 3), dtype=int32)\n"
     ]
    }
   ],
   "source": [
    "x=tf.constant([[1,2,3],[4,5,6]]) # two dimensional matrix\n",
    "print(x)"
   ]
  },
  {
   "cell_type": "code",
   "execution_count": 11,
   "metadata": {},
   "outputs": [
    {
     "name": "stdout",
     "output_type": "stream",
     "text": [
      "tf.Tensor(\n",
      "[[1. 1. 1.]\n",
      " [1. 1. 1.]\n",
      " [1. 1. 1.]], shape=(3, 3), dtype=float32)\n"
     ]
    }
   ],
   "source": [
    "x=tf.ones((3,3))\n",
    "print(x)"
   ]
  },
  {
   "cell_type": "code",
   "execution_count": 13,
   "metadata": {},
   "outputs": [
    {
     "name": "stdout",
     "output_type": "stream",
     "text": [
      "tf.Tensor(\n",
      "[[0. 0. 0. 0.]\n",
      " [0. 0. 0. 0.]], shape=(2, 4), dtype=float32)\n"
     ]
    }
   ],
   "source": [
    "x=tf.zeros((2,4))\n",
    "print(x)"
   ]
  },
  {
   "cell_type": "code",
   "execution_count": 15,
   "metadata": {},
   "outputs": [
    {
     "name": "stdout",
     "output_type": "stream",
     "text": [
      "tf.Tensor(\n",
      "[[1. 0. 0.]\n",
      " [0. 1. 0.]\n",
      " [0. 0. 1.]], shape=(3, 3), dtype=float32)\n"
     ]
    }
   ],
   "source": [
    "x=tf.eye(3) # identity matrix\n",
    "print(x)"
   ]
  },
  {
   "cell_type": "code",
   "execution_count": 17,
   "metadata": {},
   "outputs": [
    {
     "name": "stdout",
     "output_type": "stream",
     "text": [
      "tf.Tensor(\n",
      "[[-0.4021154   0.32953298 -1.5498751 ]\n",
      " [-0.44190416  0.25271016 -0.6416836 ]\n",
      " [ 0.8624003   0.19016981  0.21101798]], shape=(3, 3), dtype=float32)\n"
     ]
    }
   ],
   "source": [
    "# distribution\n",
    "x=tf.random.normal((3,3),mean=0,stddev=1) # normal distribution\n",
    "print(x)\n"
   ]
  },
  {
   "cell_type": "code",
   "execution_count": 19,
   "metadata": {},
   "outputs": [
    {
     "name": "stdout",
     "output_type": "stream",
     "text": [
      "tf.Tensor(\n",
      "[[0.2825092  0.20178056 0.12459147]\n",
      " [0.40718126 0.6119164  0.13420379]], shape=(2, 3), dtype=float32)\n"
     ]
    }
   ],
   "source": [
    "# uniform distribution\n",
    "x=tf.random.uniform((2,3),minval=0,maxval=1)\n",
    "print(x)"
   ]
  },
  {
   "cell_type": "code",
   "execution_count": 22,
   "metadata": {},
   "outputs": [
    {
     "name": "stdout",
     "output_type": "stream",
     "text": [
      "tf.Tensor([1 3 5 7 9], shape=(5,), dtype=int32)\n",
      "tf.Tensor([1. 3. 5. 7. 9.], shape=(5,), dtype=float32)\n"
     ]
    }
   ],
   "source": [
    "x=tf.range(start=1,limit=10,delta=2)\n",
    "print(x)\n",
    "#cast is a way to conversion between different types\n",
    "x=tf.cast(x,dtype=tf.float32)\n",
    "print(x)"
   ]
  },
  {
   "cell_type": "markdown",
   "metadata": {},
   "source": [
    "### Mathematical operations\n"
   ]
  },
  {
   "cell_type": "code",
   "execution_count": 23,
   "metadata": {},
   "outputs": [
    {
     "name": "stdout",
     "output_type": "stream",
     "text": [
      "tf.Tensor([10 10 10], shape=(3,), dtype=int32)\n"
     ]
    }
   ],
   "source": [
    "#two vectors\n",
    "x=tf.constant([1,2,3])\n",
    "y=tf.constant([9,8,7])\n",
    "a=tf.add(x,y)\n",
    "s=x-y  # or tf.subtract(x,y)\n",
    "m=x*y # or tf.multiply(x,y)\n",
    "d=x/y  # or tf. divide(x,y)\n"
   ]
  },
  {
   "cell_type": "markdown",
   "metadata": {},
   "source": [
    "these arithmatic operations are performed element wise. we can do dot product of the two vectors. dotproduct of two vectors=sum of elementwise mutiplications which is a scalar value."
   ]
  },
  {
   "cell_type": "code",
   "execution_count": 28,
   "metadata": {},
   "outputs": [
    {
     "name": "stdout",
     "output_type": "stream",
     "text": [
      "tf.Tensor(46, shape=(), dtype=int32)\n",
      "tf.Tensor(46, shape=(), dtype=int32)\n"
     ]
    }
   ],
   "source": [
    "dot_product=tf.tensordot(x,y,axes=1)\n",
    "print(dot_product)\n",
    "dp=tf.reduce_sum(x*y)\n",
    "print(dp)"
   ]
  },
  {
   "cell_type": "code",
   "execution_count": 29,
   "metadata": {},
   "outputs": [
    {
     "name": "stdout",
     "output_type": "stream",
     "text": [
      "tf.Tensor([ 1  8 27], shape=(3,), dtype=int32)\n"
     ]
    }
   ],
   "source": [
    "#exponentiation\n",
    "exp_x=x**3\n",
    "print(exp_x)"
   ]
  },
  {
   "cell_type": "code",
   "execution_count": 30,
   "metadata": {},
   "outputs": [
    {
     "name": "stdout",
     "output_type": "stream",
     "text": [
      "tf.Tensor(\n",
      "[[ 1.1437747   0.525156   -1.0739632  -1.5999595 ]\n",
      " [ 2.909784   -0.58547074 -1.40404    -2.2411978 ]], shape=(2, 4), dtype=float32)\n",
      "tf.Tensor(\n",
      "[[ 1.1437747   0.525156   -1.0739632  -1.5999595 ]\n",
      " [ 2.909784   -0.58547074 -1.40404    -2.2411978 ]], shape=(2, 4), dtype=float32)\n"
     ]
    }
   ],
   "source": [
    "#matrix multiplications \n",
    "'''remember that, for matrix multiplications column of first matrix should be \n",
    "equal to the row of second matrix'''\n",
    "x=tf.random.normal((2,3))\n",
    "y=tf.random.normal((3,4))\n",
    "z=tf.matmul(x,y)\n",
    "print(z)\n",
    "#another way\n",
    "m_mul=x@y\n",
    "print(m_mul)"
   ]
  },
  {
   "cell_type": "markdown",
   "metadata": {},
   "source": [
    "### Indexing"
   ]
  },
  {
   "cell_type": "markdown",
   "metadata": {},
   "source": [
    "for a vector"
   ]
  },
  {
   "cell_type": "code",
   "execution_count": 32,
   "metadata": {},
   "outputs": [
    {
     "name": "stdout",
     "output_type": "stream",
     "text": [
      "tf.Tensor([1 2 3 5 4 6], shape=(6,), dtype=int32)\n",
      "tf.Tensor([2 3 5 4 6], shape=(5,), dtype=int32)\n",
      "tf.Tensor([2], shape=(1,), dtype=int32)\n",
      "tf.Tensor([1 3 4], shape=(3,), dtype=int32)\n",
      "tf.Tensor([6 4 5 3 2 1], shape=(6,), dtype=int32)\n"
     ]
    }
   ],
   "source": [
    "# for a vector\n",
    "x=tf.constant([1,2,3,5,4,6])\n",
    "print(x[:]) # print all elements same as print(x)\n",
    "print(x[1:])# print all from index 1\n",
    "print(x[1:2]) #only one element at index 1\n",
    "print(x[::2]) # starting from index 0 and print every other element\n",
    "print(x[::-1])# print all elements in reverse order"
   ]
  },
  {
   "cell_type": "code",
   "execution_count": 33,
   "metadata": {},
   "outputs": [
    {
     "name": "stdout",
     "output_type": "stream",
     "text": [
      "tf.Tensor([1 5], shape=(2,), dtype=int32)\n"
     ]
    }
   ],
   "source": [
    "# print by passing a array of indices\n",
    "indices=tf.constant([0,3])\n",
    "x_ind=tf.gather(x,indices)\n",
    "print(x_ind)"
   ]
  },
  {
   "cell_type": "markdown",
   "metadata": {},
   "source": [
    "for matrix"
   ]
  },
  {
   "cell_type": "code",
   "execution_count": 37,
   "metadata": {},
   "outputs": [
    {
     "name": "stdout",
     "output_type": "stream",
     "text": [
      "tf.Tensor(\n",
      "[[1 2]\n",
      " [3 4]\n",
      " [5 6]], shape=(3, 2), dtype=int32)\n",
      "tf.Tensor([1 3 5], shape=(3,), dtype=int32)\n",
      "tf.Tensor([3 4], shape=(2,), dtype=int32)\n",
      "tf.Tensor(\n",
      "[[1 2]\n",
      " [3 4]], shape=(2, 2), dtype=int32)\n"
     ]
    }
   ],
   "source": [
    "x=tf.constant([[1,2],[3,4],[5,6]])\n",
    "print(x) # print all\n",
    "print(x[:,0]) # print all row column 0\n",
    "print(x[1,:]) # print all column in row 1\n",
    "print(x[:2,:])# first two rows with every column"
   ]
  },
  {
   "cell_type": "markdown",
   "metadata": {},
   "source": [
    "### Reshaping"
   ]
  },
  {
   "cell_type": "code",
   "execution_count": 38,
   "metadata": {},
   "outputs": [
    {
     "name": "stdout",
     "output_type": "stream",
     "text": [
      "tf.Tensor([0 1 2 3 4 5 6 7 8], shape=(9,), dtype=int32)\n"
     ]
    }
   ],
   "source": [
    "x=tf.range(9)\n",
    "print(x)"
   ]
  },
  {
   "cell_type": "code",
   "execution_count": 39,
   "metadata": {},
   "outputs": [
    {
     "name": "stdout",
     "output_type": "stream",
     "text": [
      "tf.Tensor(\n",
      "[[0 1 2]\n",
      " [3 4 5]\n",
      " [6 7 8]], shape=(3, 3), dtype=int32)\n"
     ]
    }
   ],
   "source": [
    "x=tf.reshape(x,(3,3))\n",
    "print(x)"
   ]
  },
  {
   "cell_type": "code",
   "execution_count": 42,
   "metadata": {},
   "outputs": [
    {
     "name": "stdout",
     "output_type": "stream",
     "text": [
      "tf.Tensor(\n",
      "[[0 1 2]\n",
      " [3 4 5]\n",
      " [6 7 8]], shape=(3, 3), dtype=int32)\n"
     ]
    }
   ],
   "source": [
    "# transpose\n",
    "x=tf.transpose(x,perm=[1,0]) \n",
    "print(x)"
   ]
  }
 ],
 "metadata": {
  "kernelspec": {
   "display_name": "Python 3",
   "language": "python",
   "name": "python3"
  },
  "language_info": {
   "codemirror_mode": {
    "name": "ipython",
    "version": 3
   },
   "file_extension": ".py",
   "mimetype": "text/x-python",
   "name": "python",
   "nbconvert_exporter": "python",
   "pygments_lexer": "ipython3",
   "version": "3.11.3"
  },
  "orig_nbformat": 4
 },
 "nbformat": 4,
 "nbformat_minor": 2
}
