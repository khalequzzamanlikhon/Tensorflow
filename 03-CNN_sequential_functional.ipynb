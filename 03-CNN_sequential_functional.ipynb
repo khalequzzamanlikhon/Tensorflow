{
 "cells": [
  {
   "cell_type": "code",
   "execution_count": 1,
   "metadata": {},
   "outputs": [],
   "source": [
    "import os \n",
    "os.environ[\"TFF_CPP_MIN_LOG_LEVEL\"]=\"2\""
   ]
  },
  {
   "cell_type": "code",
   "execution_count": 2,
   "metadata": {},
   "outputs": [],
   "source": [
    "import tensorflow as tf\n",
    "from tensorflow import keras\n",
    "from tensorflow.keras import layers\n",
    "from tensorflow.keras.datasets import cifar10"
   ]
  },
  {
   "cell_type": "code",
   "execution_count": 8,
   "metadata": {},
   "outputs": [],
   "source": [
    "# #for gpu\n",
    "# physical_devices = tf.config.list_physical_devices(\"GPU\")\n",
    "# tf.config.experimental.set_memory_growth(physical_devices[0], True)"
   ]
  },
  {
   "cell_type": "code",
   "execution_count": 9,
   "metadata": {},
   "outputs": [],
   "source": [
    "(x_train, y_train), (x_test, y_test) = cifar10.load_data()\n",
    "x_train = x_train.astype(\"float32\") / 255.0\n",
    "x_test = x_test.astype(\"float32\") / 255.0"
   ]
  },
  {
   "cell_type": "code",
   "execution_count": 10,
   "metadata": {},
   "outputs": [
    {
     "name": "stdout",
     "output_type": "stream",
     "text": [
      "(50000, 32, 32, 3)\n",
      "(50000, 1)\n"
     ]
    }
   ],
   "source": [
    "print(x_train.shape)\n",
    "print(y_train.shape)"
   ]
  },
  {
   "cell_type": "markdown",
   "metadata": {},
   "source": [
    "## Sequential Api\n"
   ]
  },
  {
   "cell_type": "code",
   "execution_count": 17,
   "metadata": {},
   "outputs": [],
   "source": [
    "s_model = keras.Sequential(\n",
    "    [\n",
    "        keras.Input(shape=(32, 32, 3)),\n",
    "        layers.Conv2D(32, 3, padding=\"valid\", activation=\"relu\"),\n",
    "        layers.MaxPooling2D(),\n",
    "        layers.Conv2D(64, 3, activation=\"relu\"),\n",
    "        layers.MaxPooling2D(),\n",
    "        layers.Conv2D(128, 3, activation=\"relu\"),\n",
    "        layers.Flatten(),\n",
    "        layers.Dense(64, activation=\"relu\"),\n",
    "        layers.Dense(10),\n",
    "    ]\n",
    ")\n"
   ]
  },
  {
   "cell_type": "markdown",
   "metadata": {},
   "source": [
    "**Note**\n",
    "- padding= 'valid' means the spatial shape will change according to  kernal shape. and 'same' will keep unchange the shape.\n",
    "- layers.Conv2D(32,3): first argument 32 is the number of kernals/filters and the 3 represents the filter/kernal size."
   ]
  },
  {
   "cell_type": "code",
   "execution_count": 20,
   "metadata": {},
   "outputs": [
    {
     "name": "stderr",
     "output_type": "stream",
     "text": [
      "WARNING:absl:`lr` is deprecated in Keras optimizer, please use `learning_rate` or use the legacy optimizer, e.g.,tf.keras.optimizers.legacy.Adam.\n"
     ]
    }
   ],
   "source": [
    "#model configuration\n",
    "s_model.compile(\n",
    "    loss=keras.losses.SparseCategoricalCrossentropy(from_logits=True),\n",
    "    optimizer=keras.optimizers.Adam(lr=3e-4),\n",
    "    metrics=[\"accuracy\"],\n",
    ")"
   ]
  },
  {
   "cell_type": "code",
   "execution_count": 21,
   "metadata": {},
   "outputs": [
    {
     "name": "stdout",
     "output_type": "stream",
     "text": [
      "Epoch 1/10\n",
      "782/782 - 43s - loss: 1.3722 - accuracy: 0.5036 - 43s/epoch - 56ms/step\n",
      "Epoch 2/10\n",
      "782/782 - 42s - loss: 1.1388 - accuracy: 0.5987 - 42s/epoch - 54ms/step\n",
      "Epoch 3/10\n",
      "782/782 - 37s - loss: 0.9975 - accuracy: 0.6522 - 37s/epoch - 48ms/step\n",
      "Epoch 4/10\n",
      "782/782 - 35s - loss: 0.8880 - accuracy: 0.6902 - 35s/epoch - 45ms/step\n",
      "Epoch 5/10\n",
      "782/782 - 35s - loss: 0.8184 - accuracy: 0.7139 - 35s/epoch - 44ms/step\n",
      "Epoch 6/10\n",
      "782/782 - 35s - loss: 0.7497 - accuracy: 0.7412 - 35s/epoch - 45ms/step\n",
      "Epoch 7/10\n",
      "782/782 - 42s - loss: 0.6973 - accuracy: 0.7557 - 42s/epoch - 54ms/step\n",
      "Epoch 8/10\n",
      "782/782 - 44s - loss: 0.6509 - accuracy: 0.7729 - 44s/epoch - 56ms/step\n",
      "Epoch 9/10\n",
      "782/782 - 42s - loss: 0.6072 - accuracy: 0.7862 - 42s/epoch - 53ms/step\n",
      "Epoch 10/10\n",
      "782/782 - 35s - loss: 0.5743 - accuracy: 0.7995 - 35s/epoch - 45ms/step\n"
     ]
    },
    {
     "data": {
      "text/plain": [
       "<keras.src.callbacks.History at 0x17a99802050>"
      ]
     },
     "execution_count": 21,
     "metadata": {},
     "output_type": "execute_result"
    }
   ],
   "source": [
    "#fit model\n",
    "s_model.fit(x_train,y_train,batch_size=64,epochs=10,verbose=2)"
   ]
  },
  {
   "cell_type": "code",
   "execution_count": 22,
   "metadata": {},
   "outputs": [
    {
     "name": "stdout",
     "output_type": "stream",
     "text": [
      "313/313 - 2s - loss: 0.8092 - accuracy: 0.7341 - 2s/epoch - 7ms/step\n"
     ]
    },
    {
     "data": {
      "text/plain": [
       "[0.8091689944267273, 0.7340999841690063]"
      ]
     },
     "execution_count": 22,
     "metadata": {},
     "output_type": "execute_result"
    }
   ],
   "source": [
    "#model evaluate\n",
    "s_model.evaluate(x_test,y_test,batch_size=32,verbose=2)"
   ]
  },
  {
   "cell_type": "code",
   "execution_count": 23,
   "metadata": {},
   "outputs": [
    {
     "name": "stdout",
     "output_type": "stream",
     "text": [
      "Model: \"sequential_2\"\n",
      "_________________________________________________________________\n",
      " Layer (type)                Output Shape              Param #   \n",
      "=================================================================\n",
      " conv2d_9 (Conv2D)           (None, 30, 30, 32)        896       \n",
      "                                                                 \n",
      " max_pooling2d_4 (MaxPoolin  (None, 15, 15, 32)        0         \n",
      " g2D)                                                            \n",
      "                                                                 \n",
      " conv2d_10 (Conv2D)          (None, 13, 13, 64)        18496     \n",
      "                                                                 \n",
      " max_pooling2d_5 (MaxPoolin  (None, 6, 6, 64)          0         \n",
      " g2D)                                                            \n",
      "                                                                 \n",
      " conv2d_11 (Conv2D)          (None, 4, 4, 128)         73856     \n",
      "                                                                 \n",
      " flatten_3 (Flatten)         (None, 2048)              0         \n",
      "                                                                 \n",
      " dense_6 (Dense)             (None, 64)                131136    \n",
      "                                                                 \n",
      " dense_7 (Dense)             (None, 10)                650       \n",
      "                                                                 \n",
      "=================================================================\n",
      "Total params: 225034 (879.04 KB)\n",
      "Trainable params: 225034 (879.04 KB)\n",
      "Non-trainable params: 0 (0.00 Byte)\n",
      "_________________________________________________________________\n",
      "None\n"
     ]
    }
   ],
   "source": [
    "print(s_model.summary())"
   ]
  },
  {
   "cell_type": "markdown",
   "metadata": {},
   "source": [
    "## functional API"
   ]
  },
  {
   "cell_type": "code",
   "execution_count": 25,
   "metadata": {},
   "outputs": [],
   "source": [
    "## functional model\n",
    "\n",
    "inputs = keras.Input(shape=(32, 32, 3))\n",
    "x = layers.Conv2D(32, 3)(inputs)\n",
    "x = layers.BatchNormalization()(x)\n",
    "x = keras.activations.relu(x)\n",
    "x = layers.MaxPooling2D()(x)\n",
    "x = layers.Conv2D(64, 3)(x)\n",
    "x = layers.BatchNormalization()(x)\n",
    "x = keras.activations.relu(x)\n",
    "x = layers.MaxPooling2D()(x)\n",
    "x = layers.Conv2D(128, 3)(x)\n",
    "x = layers.BatchNormalization()(x)\n",
    "x = keras.activations.relu(x)\n",
    "x = layers.Flatten()(x)\n",
    "x = layers.Dense(64, activation=\"relu\")(x)\n",
    "outputs = layers.Dense(10)(x)\n",
    "f_model = keras.Model(inputs=inputs, outputs=outputs)"
   ]
  },
  {
   "cell_type": "markdown",
   "metadata": {},
   "source": [
    "**Note**\n",
    "- if we use batch normalization then after normalization we use activation function\n",
    "- MaxPooling2D(): empty argument represents pool_size as 2,2"
   ]
  },
  {
   "cell_type": "code",
   "execution_count": 26,
   "metadata": {},
   "outputs": [
    {
     "name": "stderr",
     "output_type": "stream",
     "text": [
      "WARNING:absl:`lr` is deprecated in Keras optimizer, please use `learning_rate` or use the legacy optimizer, e.g.,tf.keras.optimizers.legacy.Adam.\n"
     ]
    }
   ],
   "source": [
    "# model configuration\n",
    "f_model.compile(\n",
    "    loss=keras.losses.SparseCategoricalCrossentropy(from_logits=True),\n",
    "    optimizer=keras.optimizers.Adam(lr=3e-4),\n",
    "    metrics=[\"accuracy\"]\n",
    ")"
   ]
  },
  {
   "cell_type": "code",
   "execution_count": 27,
   "metadata": {},
   "outputs": [
    {
     "name": "stdout",
     "output_type": "stream",
     "text": [
      "Epoch 1/10\n",
      "782/782 - 70s - loss: 1.2461 - accuracy: 0.5571 - 70s/epoch - 89ms/step\n",
      "Epoch 2/10\n",
      "782/782 - 60s - loss: 0.8879 - accuracy: 0.6885 - 60s/epoch - 77ms/step\n",
      "Epoch 3/10\n",
      "782/782 - 55s - loss: 0.7440 - accuracy: 0.7409 - 55s/epoch - 71ms/step\n",
      "Epoch 4/10\n",
      "782/782 - 55s - loss: 0.6486 - accuracy: 0.7727 - 55s/epoch - 71ms/step\n",
      "Epoch 5/10\n",
      "782/782 - 55s - loss: 0.5636 - accuracy: 0.8017 - 55s/epoch - 71ms/step\n",
      "Epoch 6/10\n",
      "782/782 - 56s - loss: 0.4970 - accuracy: 0.8261 - 56s/epoch - 71ms/step\n",
      "Epoch 7/10\n",
      "782/782 - 56s - loss: 0.4362 - accuracy: 0.8491 - 56s/epoch - 71ms/step\n",
      "Epoch 8/10\n",
      "782/782 - 55s - loss: 0.3736 - accuracy: 0.8698 - 55s/epoch - 70ms/step\n",
      "Epoch 9/10\n",
      "782/782 - 55s - loss: 0.3295 - accuracy: 0.8836 - 55s/epoch - 70ms/step\n",
      "Epoch 10/10\n",
      "782/782 - 55s - loss: 0.2887 - accuracy: 0.8974 - 55s/epoch - 70ms/step\n"
     ]
    },
    {
     "data": {
      "text/plain": [
       "<keras.src.callbacks.History at 0x17a9aee9710>"
      ]
     },
     "execution_count": 27,
     "metadata": {},
     "output_type": "execute_result"
    }
   ],
   "source": [
    "# model fit\n",
    "f_model.fit(x_train,y_train,batch_size=64,epochs=10,verbose=2)"
   ]
  },
  {
   "cell_type": "code",
   "execution_count": 28,
   "metadata": {},
   "outputs": [
    {
     "name": "stdout",
     "output_type": "stream",
     "text": [
      "157/157 - 3s - loss: 1.2035 - accuracy: 0.6878 - 3s/epoch - 19ms/step\n"
     ]
    },
    {
     "data": {
      "text/plain": [
       "[1.2034752368927002, 0.6877999901771545]"
      ]
     },
     "execution_count": 28,
     "metadata": {},
     "output_type": "execute_result"
    }
   ],
   "source": [
    "#evaluate model\n",
    "f_model.evaluate(x_test,y_test,batch_size=64,verbose=2)"
   ]
  },
  {
   "cell_type": "markdown",
   "metadata": {},
   "source": [
    "**Note** in the functional model the train accuracy is about 90 whereas the test aacuracy is 68. Thererfore here overfitting happens. We will work on this later. to overcome overfitting we will use regularization in the next section./"
   ]
  },
  {
   "cell_type": "markdown",
   "metadata": {},
   "source": [
    "### SUGGESTION\n",
    "- try tweaking the kernal size, training time e.t.c hyperparameters\n"
   ]
  },
  {
   "cell_type": "markdown",
   "metadata": {},
   "source": []
  }
 ],
 "metadata": {
  "kernelspec": {
   "display_name": "Python 3",
   "language": "python",
   "name": "python3"
  },
  "language_info": {
   "codemirror_mode": {
    "name": "ipython",
    "version": 3
   },
   "file_extension": ".py",
   "mimetype": "text/x-python",
   "name": "python",
   "nbconvert_exporter": "python",
   "pygments_lexer": "ipython3",
   "version": "3.11.3"
  },
  "orig_nbformat": 4
 },
 "nbformat": 4,
 "nbformat_minor": 2
}
